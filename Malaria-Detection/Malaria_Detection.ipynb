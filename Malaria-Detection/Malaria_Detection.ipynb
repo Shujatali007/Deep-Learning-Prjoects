{
  "nbformat": 4,
  "nbformat_minor": 0,
  "metadata": {
    "colab": {
      "name": "Malaria-Detection.ipynb",
      "provenance": [],
      "collapsed_sections": []
    },
    "kernelspec": {
      "name": "python3",
      "display_name": "Python 3"
    },
    "language_info": {
      "name": "python"
    },
    "accelerator": "GPU"
  },
  "cells": [
    {
      "cell_type": "markdown",
      "source": [
        "Mounting google drive to google colab to acess dataset"
      ],
      "metadata": {
        "id": "PWmVAjo5I2n8"
      }
    },
    {
      "cell_type": "code",
      "execution_count": null,
      "metadata": {
        "id": "06lVMua2EyDL",
        "colab": {
          "base_uri": "https://localhost:8080/"
        },
        "outputId": "63b10e77-01c6-498c-f1e6-7ec341ec4756"
      },
      "outputs": [
        {
          "output_type": "stream",
          "name": "stdout",
          "text": [
            "Drive already mounted at /content/drive/; to attempt to forcibly remount, call drive.mount(\"/content/drive/\", force_remount=True).\n"
          ]
        }
      ],
      "source": [
        "from google.colab import drive\n",
        "drive.mount('/content/drive/')"
      ]
    },
    {
      "cell_type": "code",
      "source": [
        "!pip install -q keras"
      ],
      "metadata": {
        "id": "CZwOTQ6XIfvB"
      },
      "execution_count": null,
      "outputs": []
    },
    {
      "cell_type": "code",
      "source": [
        "# import the libraries as shown below\n",
        "\n",
        "from tensorflow.keras.layers import Input, Lambda, Dense, Flatten,Conv2D\n",
        "from tensorflow.keras.models import Model\n",
        "from tensorflow.keras.applications.vgg19 import VGG19\n",
        "from tensorflow.keras.applications.resnet50 import preprocess_input\n",
        "from tensorflow.keras.preprocessing import image\n",
        "from tensorflow.keras.preprocessing.image import ImageDataGenerator,load_img\n",
        "from tensorflow.keras.models import Sequential\n",
        "import numpy as np\n",
        "from glob import glob\n",
        "import matplotlib.pyplot as plt"
      ],
      "metadata": {
        "id": "pJ6rnH6bJPTw"
      },
      "execution_count": null,
      "outputs": []
    },
    {
      "cell_type": "code",
      "source": [
        "# re-size all the images to 224 * 224\n",
        "IMAGE_SIZE = [224, 224]\n",
        "# path of google drive to acess train and validation dataset \n",
        "train_path = '/content/drive/MyDrive/Dataset/Malaria-Detection-master/malaria-parasite-detection/train/train'\n",
        "valid_path = '/content/drive/MyDrive/Dataset/Malaria-Detection-master/Malaria-Detection-master/Dataset/Dataset/Test'"
      ],
      "metadata": {
        "id": "6fjXsx31azbK"
      },
      "execution_count": null,
      "outputs": []
    },
    {
      "cell_type": "markdown",
      "source": [
        "Learning - Vgg16 and VGg19 works better compare to Alexnet.Mobile net and resnet gives the less accuracy"
      ],
      "metadata": {
        "id": "cmqhyRaqJwL8"
      }
    },
    {
      "cell_type": "code",
      "source": [
        "# Importing the Vgg 16 library as shown below and add preprocessing layer to the front of VGG\n",
        "# Here we will be using imagenet weights\n",
        "# include_top=False #excluding first layer and last layer.In first layer we will input our image size and last layer would be for classification of Infectious and Non Infectious to Malaria  \n",
        "# input_shape=IMAGE_SIZE --input IMAGE_SIZE--->224*224 and 3 is the depth which is rgb color channel\n",
        "\n",
        "VGG19_Model = VGG19(input_shape=IMAGE_SIZE + [3], weights='imagenet', include_top=False)"
      ],
      "metadata": {
        "id": "V9B9Z6UHdJ40"
      },
      "execution_count": null,
      "outputs": []
    },
    {
      "cell_type": "code",
      "source": [
        "VGG19_Model.summary()"
      ],
      "metadata": {
        "colab": {
          "base_uri": "https://localhost:8080/"
        },
        "id": "GQ1IbPg9dSxK",
        "outputId": "c27da194-b872-4061-881b-41b50909792b"
      },
      "execution_count": null,
      "outputs": [
        {
          "output_type": "stream",
          "name": "stdout",
          "text": [
            "Model: \"vgg19\"\n",
            "_________________________________________________________________\n",
            " Layer (type)                Output Shape              Param #   \n",
            "=================================================================\n",
            " input_5 (InputLayer)        [(None, 224, 224, 3)]     0         \n",
            "                                                                 \n",
            " block1_conv1 (Conv2D)       (None, 224, 224, 64)      1792      \n",
            "                                                                 \n",
            " block1_conv2 (Conv2D)       (None, 224, 224, 64)      36928     \n",
            "                                                                 \n",
            " block1_pool (MaxPooling2D)  (None, 112, 112, 64)      0         \n",
            "                                                                 \n",
            " block2_conv1 (Conv2D)       (None, 112, 112, 128)     73856     \n",
            "                                                                 \n",
            " block2_conv2 (Conv2D)       (None, 112, 112, 128)     147584    \n",
            "                                                                 \n",
            " block2_pool (MaxPooling2D)  (None, 56, 56, 128)       0         \n",
            "                                                                 \n",
            " block3_conv1 (Conv2D)       (None, 56, 56, 256)       295168    \n",
            "                                                                 \n",
            " block3_conv2 (Conv2D)       (None, 56, 56, 256)       590080    \n",
            "                                                                 \n",
            " block3_conv3 (Conv2D)       (None, 56, 56, 256)       590080    \n",
            "                                                                 \n",
            " block3_conv4 (Conv2D)       (None, 56, 56, 256)       590080    \n",
            "                                                                 \n",
            " block3_pool (MaxPooling2D)  (None, 28, 28, 256)       0         \n",
            "                                                                 \n",
            " block4_conv1 (Conv2D)       (None, 28, 28, 512)       1180160   \n",
            "                                                                 \n",
            " block4_conv2 (Conv2D)       (None, 28, 28, 512)       2359808   \n",
            "                                                                 \n",
            " block4_conv3 (Conv2D)       (None, 28, 28, 512)       2359808   \n",
            "                                                                 \n",
            " block4_conv4 (Conv2D)       (None, 28, 28, 512)       2359808   \n",
            "                                                                 \n",
            " block4_pool (MaxPooling2D)  (None, 14, 14, 512)       0         \n",
            "                                                                 \n",
            " block5_conv1 (Conv2D)       (None, 14, 14, 512)       2359808   \n",
            "                                                                 \n",
            " block5_conv2 (Conv2D)       (None, 14, 14, 512)       2359808   \n",
            "                                                                 \n",
            " block5_conv3 (Conv2D)       (None, 14, 14, 512)       2359808   \n",
            "                                                                 \n",
            " block5_conv4 (Conv2D)       (None, 14, 14, 512)       2359808   \n",
            "                                                                 \n",
            " block5_pool (MaxPooling2D)  (None, 7, 7, 512)         0         \n",
            "                                                                 \n",
            "=================================================================\n",
            "Total params: 20,024,384\n",
            "Trainable params: 20,024,384\n",
            "Non-trainable params: 0\n",
            "_________________________________________________________________\n"
          ]
        }
      ]
    },
    {
      "cell_type": "code",
      "source": [
        "# Keeping the existing weights as it is\n",
        "\n",
        "for layer in VGG19_Model.layers:\n",
        "    layer.trainable = False"
      ],
      "metadata": {
        "id": "ulGrS5LQe7gZ"
      },
      "execution_count": null,
      "outputs": []
    },
    {
      "cell_type": "code",
      "source": [
        "# useful for getting number of output classes\n",
        "folders = glob('/content/drive/MyDrive/Dataset/Malaria-Detection-master/malaria-parasite-detection/train/train/*')"
      ],
      "metadata": {
        "id": "i7MlYHa9e8ag"
      },
      "execution_count": null,
      "outputs": []
    },
    {
      "cell_type": "code",
      "source": [
        "folders"
      ],
      "metadata": {
        "colab": {
          "base_uri": "https://localhost:8080/"
        },
        "id": "ROsJiUSQfWHc",
        "outputId": "9840045d-8151-4684-ff45-07649a578d8b"
      },
      "execution_count": null,
      "outputs": [
        {
          "output_type": "execute_result",
          "data": {
            "text/plain": [
              "['/content/drive/MyDrive/Dataset/Malaria-Detection-master/malaria-parasite-detection/train/train/Uninfected',\n",
              " '/content/drive/MyDrive/Dataset/Malaria-Detection-master/malaria-parasite-detection/train/train/Parasitized']"
            ]
          },
          "metadata": {},
          "execution_count": 67
        }
      ]
    },
    {
      "cell_type": "code",
      "source": [
        "# flatten the output of the last layer\n",
        "x = Flatten()(VGG19_Model.output)"
      ],
      "metadata": {
        "id": "0rsfh8isfkig"
      },
      "execution_count": null,
      "outputs": []
    },
    {
      "cell_type": "markdown",
      "source": [
        "Sigmoid would be used for binary classification.Softmax for multiclass classification"
      ],
      "metadata": {
        "id": "XL1UKoEmKfhJ"
      }
    },
    {
      "cell_type": "code",
      "source": [
        "# output layer with two nodes\n",
        "prediction = Dense(len(folders), activation='softmax')(x)\n",
        "\n",
        "# create a model object\n",
        "model = Model(inputs=VGG19_Model.input, outputs=prediction)"
      ],
      "metadata": {
        "id": "sfqZBIOggKqP"
      },
      "execution_count": null,
      "outputs": []
    },
    {
      "cell_type": "code",
      "source": [
        "model.summary()"
      ],
      "metadata": {
        "colab": {
          "base_uri": "https://localhost:8080/"
        },
        "id": "Ajq86Ts7gPgU",
        "outputId": "49b6eadc-e826-40f0-ca0e-31ca5ecf1b90"
      },
      "execution_count": null,
      "outputs": [
        {
          "output_type": "stream",
          "name": "stdout",
          "text": [
            "Model: \"model_2\"\n",
            "_________________________________________________________________\n",
            " Layer (type)                Output Shape              Param #   \n",
            "=================================================================\n",
            " input_5 (InputLayer)        [(None, 224, 224, 3)]     0         \n",
            "                                                                 \n",
            " block1_conv1 (Conv2D)       (None, 224, 224, 64)      1792      \n",
            "                                                                 \n",
            " block1_conv2 (Conv2D)       (None, 224, 224, 64)      36928     \n",
            "                                                                 \n",
            " block1_pool (MaxPooling2D)  (None, 112, 112, 64)      0         \n",
            "                                                                 \n",
            " block2_conv1 (Conv2D)       (None, 112, 112, 128)     73856     \n",
            "                                                                 \n",
            " block2_conv2 (Conv2D)       (None, 112, 112, 128)     147584    \n",
            "                                                                 \n",
            " block2_pool (MaxPooling2D)  (None, 56, 56, 128)       0         \n",
            "                                                                 \n",
            " block3_conv1 (Conv2D)       (None, 56, 56, 256)       295168    \n",
            "                                                                 \n",
            " block3_conv2 (Conv2D)       (None, 56, 56, 256)       590080    \n",
            "                                                                 \n",
            " block3_conv3 (Conv2D)       (None, 56, 56, 256)       590080    \n",
            "                                                                 \n",
            " block3_conv4 (Conv2D)       (None, 56, 56, 256)       590080    \n",
            "                                                                 \n",
            " block3_pool (MaxPooling2D)  (None, 28, 28, 256)       0         \n",
            "                                                                 \n",
            " block4_conv1 (Conv2D)       (None, 28, 28, 512)       1180160   \n",
            "                                                                 \n",
            " block4_conv2 (Conv2D)       (None, 28, 28, 512)       2359808   \n",
            "                                                                 \n",
            " block4_conv3 (Conv2D)       (None, 28, 28, 512)       2359808   \n",
            "                                                                 \n",
            " block4_conv4 (Conv2D)       (None, 28, 28, 512)       2359808   \n",
            "                                                                 \n",
            " block4_pool (MaxPooling2D)  (None, 14, 14, 512)       0         \n",
            "                                                                 \n",
            " block5_conv1 (Conv2D)       (None, 14, 14, 512)       2359808   \n",
            "                                                                 \n",
            " block5_conv2 (Conv2D)       (None, 14, 14, 512)       2359808   \n",
            "                                                                 \n",
            " block5_conv3 (Conv2D)       (None, 14, 14, 512)       2359808   \n",
            "                                                                 \n",
            " block5_conv4 (Conv2D)       (None, 14, 14, 512)       2359808   \n",
            "                                                                 \n",
            " block5_pool (MaxPooling2D)  (None, 7, 7, 512)         0         \n",
            "                                                                 \n",
            " flatten_3 (Flatten)         (None, 25088)             0         \n",
            "                                                                 \n",
            " dense_4 (Dense)             (None, 2)                 50178     \n",
            "                                                                 \n",
            "=================================================================\n",
            "Total params: 20,074,562\n",
            "Trainable params: 50,178\n",
            "Non-trainable params: 20,024,384\n",
            "_________________________________________________________________\n"
          ]
        }
      ]
    },
    {
      "cell_type": "markdown",
      "source": [
        "For Binary classification ---> Binary_crossentropy\n",
        "\n",
        "For Categorical Classification---> Categorical_crossentropy "
      ],
      "metadata": {
        "id": "F3ADrY2LK_zf"
      }
    },
    {
      "cell_type": "code",
      "source": [
        "# tell the model what cost and optimization method to use\n",
        "model.compile(\n",
        "  loss='categorical_crossentropy',\n",
        "  optimizer='adam',\n",
        "  metrics=['accuracy']\n",
        ")"
      ],
      "metadata": {
        "id": "wbaxMkgPBTa2"
      },
      "execution_count": null,
      "outputs": []
    },
    {
      "cell_type": "code",
      "source": [
        "# Use the Image Data Generator to import the images from the dataset\n",
        "from keras.preprocessing.image import ImageDataGenerator\n",
        "TRAINING_DIR = '/content/drive/MyDrive/Dataset/Malaria-Detection-master/malaria-parasite-detection/train/train'\n",
        "IMAGE_SIZE = 224\n",
        "BATCH_SIZE = 32\n",
        "data_generator = ImageDataGenerator(rescale=1./255, validation_split=0.33,\n",
        "                                  shear_range = 0.2,\n",
        "                                   zoom_range = 0.2,\n",
        "                                   horizontal_flip = True)\n",
        "\n",
        "test_datagen = ImageDataGenerator(rescale = 1./255)\n",
        "train_generator = data_generator.flow_from_directory(TRAINING_DIR, target_size=(IMAGE_SIZE, IMAGE_SIZE), shuffle=True, seed=13,\n",
        "                                                     class_mode='categorical', batch_size=BATCH_SIZE, subset=\"training\")\n",
        "\n",
        "validation_generator = data_generator.flow_from_directory(TRAINING_DIR, target_size=(IMAGE_SIZE, IMAGE_SIZE), shuffle=True, seed=13,\n",
        "                                                     class_mode='categorical', batch_size=BATCH_SIZE, subset=\"validation\")\n",
        "\n",
        "test_generator = test_datagen.flow_from_directory('/content/drive/MyDrive/Dataset/Malaria-Detection-master/Malaria-Detection-master/Dataset/Dataset/Test',\n",
        "                                            target_size = (224, 224),\n",
        "                                            batch_size = 32,\n",
        "                                            class_mode = 'categorical')"
      ],
      "metadata": {
        "colab": {
          "base_uri": "https://localhost:8080/"
        },
        "id": "Ntzcy0_fPKFr",
        "outputId": "73f1bda2-36f7-4819-be54-c4799e336834"
      },
      "execution_count": null,
      "outputs": [
        {
          "output_type": "stream",
          "name": "stdout",
          "text": [
            "Found 16751 images belonging to 2 classes.\n",
            "Found 8249 images belonging to 2 classes.\n",
            "Found 134 images belonging to 2 classes.\n"
          ]
        }
      ]
    },
    {
      "cell_type": "code",
      "source": [
        "# fit the model\n",
        "# Run the cell. It will take some time to execute\n",
        "history = model.fit(\n",
        "  train_generator,\n",
        "  validation_data=validation_generator,\n",
        "  epochs=30,\n",
        "  steps_per_epoch=len(train_generator),\n",
        "  validation_steps=len(validation_generator)\n",
        ")"
      ],
      "metadata": {
        "colab": {
          "base_uri": "https://localhost:8080/"
        },
        "id": "pISgg1irGW3l",
        "outputId": "855aa6f5-8281-497b-8d3a-28b218834037"
      },
      "execution_count": null,
      "outputs": [
        {
          "output_type": "stream",
          "name": "stdout",
          "text": [
            "Epoch 1/30\n",
            "524/524 [==============================] - 253s 480ms/step - loss: 0.2794 - accuracy: 0.8976 - val_loss: 0.5546 - val_accuracy: 0.8134\n",
            "Epoch 2/30\n",
            "524/524 [==============================] - 242s 461ms/step - loss: 0.2466 - accuracy: 0.9103 - val_loss: 0.1572 - val_accuracy: 0.9328\n",
            "Epoch 3/30\n",
            "524/524 [==============================] - 241s 460ms/step - loss: 0.2543 - accuracy: 0.9097 - val_loss: 0.2536 - val_accuracy: 0.9030\n",
            "Epoch 4/30\n",
            "524/524 [==============================] - 244s 466ms/step - loss: 0.2374 - accuracy: 0.9159 - val_loss: 1.5461 - val_accuracy: 0.6194\n",
            "Epoch 5/30\n",
            "524/524 [==============================] - 246s 470ms/step - loss: 0.2694 - accuracy: 0.9051 - val_loss: 0.1345 - val_accuracy: 0.9328\n",
            "Epoch 6/30\n",
            "524/524 [==============================] - 244s 465ms/step - loss: 0.2554 - accuracy: 0.9091 - val_loss: 0.1954 - val_accuracy: 0.9179\n",
            "Epoch 7/30\n",
            "524/524 [==============================] - 234s 446ms/step - loss: 0.2248 - accuracy: 0.9200 - val_loss: 0.1585 - val_accuracy: 0.9104\n",
            "Epoch 8/30\n",
            "524/524 [==============================] - 234s 446ms/step - loss: 0.2377 - accuracy: 0.9162 - val_loss: 0.1502 - val_accuracy: 0.9403\n",
            "Epoch 9/30\n",
            "524/524 [==============================] - 250s 478ms/step - loss: 0.2505 - accuracy: 0.9162 - val_loss: 0.6261 - val_accuracy: 0.7910\n",
            "Epoch 10/30\n",
            "524/524 [==============================] - 244s 466ms/step - loss: 0.2183 - accuracy: 0.9230 - val_loss: 0.7609 - val_accuracy: 0.7836\n",
            "Epoch 11/30\n",
            "524/524 [==============================] - 230s 438ms/step - loss: 0.2223 - accuracy: 0.9210 - val_loss: 0.4053 - val_accuracy: 0.8657\n",
            "Epoch 12/30\n",
            "524/524 [==============================] - 228s 435ms/step - loss: 0.2224 - accuracy: 0.9257 - val_loss: 0.1658 - val_accuracy: 0.9179\n",
            "Epoch 13/30\n",
            "524/524 [==============================] - 232s 443ms/step - loss: 0.2354 - accuracy: 0.9186 - val_loss: 0.1929 - val_accuracy: 0.8955\n",
            "Epoch 14/30\n",
            "524/524 [==============================] - 231s 440ms/step - loss: 0.1961 - accuracy: 0.9293 - val_loss: 0.1365 - val_accuracy: 0.9328\n",
            "Epoch 15/30\n",
            "524/524 [==============================] - 237s 452ms/step - loss: 0.2427 - accuracy: 0.9191 - val_loss: 0.2056 - val_accuracy: 0.9179\n",
            "Epoch 16/30\n",
            "524/524 [==============================] - 240s 458ms/step - loss: 0.2493 - accuracy: 0.9179 - val_loss: 0.1652 - val_accuracy: 0.9328\n",
            "Epoch 17/30\n",
            "524/524 [==============================] - 240s 457ms/step - loss: 0.2349 - accuracy: 0.9224 - val_loss: 0.1408 - val_accuracy: 0.9179\n",
            "Epoch 18/30\n",
            "524/524 [==============================] - 239s 456ms/step - loss: 0.2545 - accuracy: 0.9153 - val_loss: 0.1083 - val_accuracy: 0.9627\n",
            "Epoch 19/30\n",
            "524/524 [==============================] - 241s 459ms/step - loss: 0.2189 - accuracy: 0.9284 - val_loss: 0.4435 - val_accuracy: 0.8657\n",
            "Epoch 20/30\n",
            "524/524 [==============================] - 239s 456ms/step - loss: 0.2010 - accuracy: 0.9306 - val_loss: 0.0780 - val_accuracy: 0.9776\n",
            "Epoch 21/30\n",
            "524/524 [==============================] - 242s 461ms/step - loss: 0.2018 - accuracy: 0.9321 - val_loss: 0.3462 - val_accuracy: 0.8731\n",
            "Epoch 22/30\n",
            "524/524 [==============================] - 242s 461ms/step - loss: 0.2222 - accuracy: 0.9287 - val_loss: 0.1220 - val_accuracy: 0.9552\n",
            "Epoch 23/30\n",
            "524/524 [==============================] - 243s 463ms/step - loss: 0.2134 - accuracy: 0.9283 - val_loss: 0.2004 - val_accuracy: 0.9030\n",
            "Epoch 24/30\n",
            "524/524 [==============================] - 242s 462ms/step - loss: 0.2183 - accuracy: 0.9255 - val_loss: 0.3303 - val_accuracy: 0.8806\n",
            "Epoch 25/30\n",
            "524/524 [==============================] - 241s 460ms/step - loss: 0.1996 - accuracy: 0.9318 - val_loss: 0.5606 - val_accuracy: 0.8433\n",
            "Epoch 26/30\n",
            "524/524 [==============================] - 240s 457ms/step - loss: 0.1935 - accuracy: 0.9327 - val_loss: 0.1759 - val_accuracy: 0.9030\n",
            "Epoch 27/30\n",
            "524/524 [==============================] - 241s 460ms/step - loss: 0.2142 - accuracy: 0.9298 - val_loss: 0.2551 - val_accuracy: 0.8955\n",
            "Epoch 28/30\n",
            "524/524 [==============================] - 245s 468ms/step - loss: 0.1876 - accuracy: 0.9358 - val_loss: 0.2380 - val_accuracy: 0.9179\n",
            "Epoch 29/30\n",
            "524/524 [==============================] - 246s 469ms/step - loss: 0.2266 - accuracy: 0.9253 - val_loss: 0.0816 - val_accuracy: 0.9552\n",
            "Epoch 30/30\n",
            "524/524 [==============================] - 250s 477ms/step - loss: 0.2020 - accuracy: 0.9327 - val_loss: 0.2638 - val_accuracy: 0.9104\n"
          ]
        }
      ]
    },
    {
      "cell_type": "code",
      "source": [
        ""
      ],
      "metadata": {
        "id": "Qu-Kv34Of4T8"
      },
      "execution_count": null,
      "outputs": []
    },
    {
      "cell_type": "code",
      "source": [
        "# plot the loss\n",
        "plt.plot(history.history['loss'], label='train loss')\n",
        "plt.plot(history.history['val_loss'], label='val loss')\n",
        "plt.legend()\n",
        "plt.show()\n",
        "plt.savefig('LossVal_loss')"
      ],
      "metadata": {
        "colab": {
          "base_uri": "https://localhost:8080/",
          "height": 284
        },
        "id": "0QMefkzTU1Aq",
        "outputId": "91116e2d-8e35-44a1-eef8-bc75da8c4d9a"
      },
      "execution_count": null,
      "outputs": [
        {
          "output_type": "display_data",
          "data": {
            "image/png": "[encoded data removed]",
            "text/plain": [
              "<Figure size 432x288 with 1 Axes>"
            ]
          },
          "metadata": {
            "needs_background": "light"
          }
        },
        {
          "output_type": "display_data",
          "data": {
            "text/plain": [
              "<Figure size 432x288 with 0 Axes>"
            ]
          },
          "metadata": {}
        }
      ]
    },
    {
      "cell_type": "code",
      "source": [
        "# plot the accuracy\n",
        "plt.plot(history.history['accuracy'], label='train acc')\n",
        "plt.plot(history.history['val_accuracy'], label='val acc')\n",
        "plt.legend()\n",
        "plt.show()\n",
        "plt.savefig('AccVal_acc')"
      ],
      "metadata": {
        "colab": {
          "base_uri": "https://localhost:8080/",
          "height": 282
        },
        "id": "XFVxgfmTU-Er",
        "outputId": "a904c82e-f0e6-4adb-d5ca-89f88385d4e2"
      },
      "execution_count": null,
      "outputs": [
        {
          "output_type": "display_data",
          "data": {
            "image/png": "[encoded data removed]",
            "text/plain": [
              "<Figure size 432x288 with 1 Axes>"
            ]
          },
          "metadata": {
            "needs_background": "light"
          }
        },
        {
          "output_type": "display_data",
          "data": {
            "text/plain": [
              "<Figure size 432x288 with 0 Axes>"
            ]
          },
          "metadata": {}
        }
      ]
    },
    {
      "cell_type": "code",
      "source": [
        "!ls /content/gdrive"
      ],
      "metadata": {
        "colab": {
          "base_uri": "https://localhost:8080/"
        },
        "id": "Fj4Rx3-fg19y",
        "outputId": "bca9c8f5-f66e-4283-8cc2-3bbf26dcac8b"
      },
      "execution_count": null,
      "outputs": [
        {
          "output_type": "stream",
          "name": "stdout",
          "text": [
            "ls: cannot access '/content/gdrive': No such file or directory\n"
          ]
        }
      ]
    },
    {
      "cell_type": "code",
      "source": [
        "/content/drive/MyDrive/Dataset/Malaria-Detection-master"
      ],
      "metadata": {
        "id": "TKR7H-XExdc_"
      },
      "execution_count": null,
      "outputs": []
    },
    {
      "cell_type": "code",
      "source": [
        "model_save_name = 'classifier.pt'\n",
        "path = F\"/content/drive/MyDrive/Dataset/Malaria-Detection-master/{model_save_name}\" \n",
        "torch.save(model.state_dict(), path)"
      ],
      "metadata": {
        "id": "ER8g-rImhLXP"
      },
      "execution_count": null,
      "outputs": []
    },
    {
      "cell_type": "code",
      "source": [
        "/content/model_vgg19.h5"
      ],
      "metadata": {
        "id": "Jkss3isfzL75"
      },
      "execution_count": null,
      "outputs": []
    },
    {
      "cell_type": "code",
      "source": [
        "# save it as a h5 file\n",
        "\n",
        "from tensorflow.keras.models import load_model\n",
        "\n",
        "model.save('model_vgg19.h5' )"
      ],
      "metadata": {
        "id": "LK7gURorbFxN"
      },
      "execution_count": null,
      "outputs": []
    },
    {
      "cell_type": "code",
      "source": [
        "y_pred = model.predict(test_set)"
      ],
      "metadata": {
        "id": "GxnCoKiaddv8"
      },
      "execution_count": null,
      "outputs": []
    },
    {
      "cell_type": "code",
      "source": [
        "y_pred"
      ],
      "metadata": {
        "colab": {
          "base_uri": "https://localhost:8080/"
        },
        "id": "O1bv8zzOdf7S",
        "outputId": "d9e29825-5fa7-4430-87e7-bf4f17959139"
      },
      "execution_count": null,
      "outputs": [
        {
          "output_type": "execute_result",
          "data": {
            "text/plain": [
              "array([[8.85816693e-01, 1.14183351e-01],\n",
              "       [9.29867983e-01, 7.01320246e-02],\n",
              "       [2.39120796e-02, 9.76087928e-01],\n",
              "       [8.69247258e-01, 1.30752772e-01],\n",
              "       [6.76842451e-01, 3.23157519e-01],\n",
              "       [9.99952555e-01, 4.74062581e-05],\n",
              "       [8.55661929e-03, 9.91443336e-01],\n",
              "       [7.53275573e-01, 2.46724457e-01],\n",
              "       [9.48859870e-01, 5.11401743e-02],\n",
              "       [2.39025708e-03, 9.97609735e-01],\n",
              "       [1.00000000e+00, 6.98007407e-12],\n",
              "       [1.32472283e-04, 9.99867558e-01],\n",
              "       [1.00000000e+00, 8.40684568e-17],\n",
              "       [9.99671698e-01, 3.28321563e-04],\n",
              "       [4.18679498e-04, 9.99581277e-01],\n",
              "       [2.97542010e-03, 9.97024596e-01],\n",
              "       [1.62315252e-03, 9.98376846e-01],\n",
              "       [9.99999881e-01, 6.52991474e-08],\n",
              "       [7.94608146e-04, 9.99205410e-01],\n",
              "       [9.99960899e-01, 3.90470013e-05],\n",
              "       [9.99999881e-01, 8.95104435e-08],\n",
              "       [9.99999881e-01, 8.01101834e-08],\n",
              "       [9.99995589e-01, 4.44747911e-06],\n",
              "       [9.99978662e-01, 2.13759358e-05],\n",
              "       [1.00000000e+00, 2.59057842e-08],\n",
              "       [8.90474737e-01, 1.09525219e-01],\n",
              "       [9.99338090e-01, 6.61853817e-04],\n",
              "       [1.06247026e-03, 9.98937547e-01],\n",
              "       [9.98168588e-01, 1.83138379e-03],\n",
              "       [1.14539616e-04, 9.99885440e-01],\n",
              "       [9.98951077e-01, 1.04885385e-03],\n",
              "       [1.00000000e+00, 4.85792775e-08],\n",
              "       [4.18339798e-04, 9.99581635e-01],\n",
              "       [4.28579631e-04, 9.99571383e-01],\n",
              "       [6.31873030e-04, 9.99368131e-01],\n",
              "       [1.00000000e+00, 5.08612259e-20],\n",
              "       [1.53049961e-01, 8.46949995e-01],\n",
              "       [2.67370313e-01, 7.32629657e-01],\n",
              "       [9.96219814e-01, 3.78016871e-03],\n",
              "       [1.34905137e-03, 9.98650968e-01],\n",
              "       [1.95784800e-04, 9.99804199e-01],\n",
              "       [1.00000000e+00, 2.77381796e-13],\n",
              "       [1.02221158e-04, 9.99897718e-01],\n",
              "       [9.98698115e-01, 1.30191131e-03],\n",
              "       [2.55797128e-03, 9.97442007e-01],\n",
              "       [9.99995589e-01, 4.36161099e-06],\n",
              "       [4.85089025e-04, 9.99514937e-01],\n",
              "       [9.99828339e-01, 1.71639447e-04],\n",
              "       [9.87785961e-03, 9.90122139e-01],\n",
              "       [5.07078087e-03, 9.94929194e-01],\n",
              "       [9.99996066e-01, 3.88545959e-06],\n",
              "       [3.60163003e-01, 6.39837027e-01],\n",
              "       [9.99913335e-01, 8.66123883e-05],\n",
              "       [1.36702252e-03, 9.98632967e-01],\n",
              "       [9.09165130e-04, 9.99090791e-01],\n",
              "       [1.66183382e-01, 8.33816648e-01],\n",
              "       [5.04644513e-02, 9.49535549e-01],\n",
              "       [1.69331729e-01, 8.30668271e-01],\n",
              "       [2.40617170e-04, 9.99759376e-01],\n",
              "       [9.99999523e-01, 5.20853177e-07],\n",
              "       [1.83826298e-04, 9.99816239e-01],\n",
              "       [5.57381311e-04, 9.99442637e-01],\n",
              "       [9.98249948e-01, 1.74999679e-03],\n",
              "       [1.00000000e+00, 1.13907907e-12],\n",
              "       [1.00000000e+00, 3.42973635e-14],\n",
              "       [3.35978903e-02, 9.66402113e-01],\n",
              "       [9.98348117e-01, 1.65186962e-03],\n",
              "       [7.00982334e-03, 9.92990136e-01],\n",
              "       [9.71994162e-01, 2.80057918e-02],\n",
              "       [9.27012414e-03, 9.90729868e-01],\n",
              "       [1.09076407e-02, 9.89092350e-01],\n",
              "       [1.00000000e+00, 1.74983974e-08],\n",
              "       [9.99987245e-01, 1.27853282e-05],\n",
              "       [9.65763032e-01, 3.42369340e-02],\n",
              "       [9.99995708e-01, 4.24479003e-06],\n",
              "       [9.79567289e-01, 2.04326548e-02],\n",
              "       [9.98432934e-01, 1.56707992e-03],\n",
              "       [7.66263576e-04, 9.99233723e-01],\n",
              "       [1.17952621e-03, 9.98820484e-01],\n",
              "       [9.58089709e-01, 4.19102609e-02],\n",
              "       [5.04898727e-01, 4.95101273e-01],\n",
              "       [2.05977866e-03, 9.97940242e-01],\n",
              "       [9.99519825e-01, 4.80203162e-04],\n",
              "       [6.84973419e-01, 3.15026611e-01],\n",
              "       [1.62441552e-01, 8.37558508e-01],\n",
              "       [9.99822795e-01, 1.77281880e-04],\n",
              "       [9.99985576e-01, 1.43811731e-05],\n",
              "       [9.73521829e-01, 2.64781062e-02],\n",
              "       [8.87119830e-01, 1.12880185e-01],\n",
              "       [9.75644827e-01, 2.43551098e-02],\n",
              "       [1.00000000e+00, 8.52871773e-10],\n",
              "       [9.99991894e-01, 8.07978540e-06],\n",
              "       [9.71830070e-01, 2.81699412e-02],\n",
              "       [9.99707639e-01, 2.92278419e-04],\n",
              "       [2.55965919e-04, 9.99743998e-01],\n",
              "       [9.94577289e-01, 5.42270858e-03],\n",
              "       [1.26716716e-03, 9.98732865e-01],\n",
              "       [6.65885150e-01, 3.34114820e-01],\n",
              "       [5.09524252e-03, 9.94904757e-01],\n",
              "       [9.99517202e-01, 4.82851377e-04],\n",
              "       [9.99313831e-01, 6.86179032e-04],\n",
              "       [9.99960899e-01, 3.91558169e-05],\n",
              "       [3.57928813e-01, 6.42071247e-01],\n",
              "       [2.53672479e-03, 9.97463226e-01],\n",
              "       [6.37792400e-04, 9.99362171e-01],\n",
              "       [9.93896186e-01, 6.10381318e-03],\n",
              "       [9.53001261e-01, 4.69987057e-02],\n",
              "       [1.00000000e+00, 9.43915952e-12],\n",
              "       [6.27183318e-01, 3.72816712e-01],\n",
              "       [9.99981046e-01, 1.89755319e-05],\n",
              "       [1.98419415e-03, 9.98015761e-01],\n",
              "       [1.98654365e-03, 9.98013377e-01],\n",
              "       [4.56615293e-04, 9.99543369e-01],\n",
              "       [9.99619603e-01, 3.80392274e-04],\n",
              "       [3.53456970e-04, 9.99646544e-01],\n",
              "       [9.97048557e-01, 2.95141828e-03],\n",
              "       [8.89147699e-01, 1.10852331e-01],\n",
              "       [1.52433326e-03, 9.98475611e-01],\n",
              "       [2.13417294e-03, 9.97865856e-01],\n",
              "       [1.00000000e+00, 1.46191761e-08],\n",
              "       [9.99947548e-01, 5.24986572e-05],\n",
              "       [9.99999762e-01, 2.96314226e-07],\n",
              "       [3.42077063e-03, 9.96579230e-01],\n",
              "       [9.86574590e-01, 1.34253623e-02],\n",
              "       [9.94791806e-01, 5.20821428e-03],\n",
              "       [9.96829331e-01, 3.17069003e-03],\n",
              "       [9.99999285e-01, 7.39373320e-07],\n",
              "       [1.49462633e-02, 9.85053718e-01],\n",
              "       [4.54199640e-03, 9.95458007e-01],\n",
              "       [1.34824644e-04, 9.99865174e-01],\n",
              "       [9.87992764e-01, 1.20072104e-02],\n",
              "       [9.99999762e-01, 2.44393163e-07],\n",
              "       [9.99852538e-01, 1.47384373e-04],\n",
              "       [9.54738319e-01, 4.52616215e-02]], dtype=float32)"
            ]
          },
          "metadata": {},
          "execution_count": 95
        }
      ]
    },
    {
      "cell_type": "code",
      "source": [
        "# argmax will provide position of maximum values in index\n",
        "import numpy as np\n",
        "y_pred = np.argmax(y_pred, axis=1)"
      ],
      "metadata": {
        "id": "_JsuiiUUdlbi"
      },
      "execution_count": null,
      "outputs": []
    },
    {
      "cell_type": "code",
      "source": [
        "y_pred"
      ],
      "metadata": {
        "colab": {
          "base_uri": "https://localhost:8080/"
        },
        "id": "lczFf-UHdpCN",
        "outputId": "415a782b-9769-4777-af45-745c0a987838"
      },
      "execution_count": null,
      "outputs": [
        {
          "output_type": "execute_result",
          "data": {
            "text/plain": [
              "array([0, 0, 1, 0, 0, 0, 1, 0, 0, 1, 0, 1, 0, 0, 1, 1, 1, 0, 1, 0, 0, 0,\n",
              "       0, 0, 0, 0, 0, 1, 0, 1, 0, 0, 1, 1, 1, 0, 1, 1, 0, 1, 1, 0, 1, 0,\n",
              "       1, 0, 1, 0, 1, 1, 0, 1, 0, 1, 1, 1, 1, 1, 1, 0, 1, 1, 0, 0, 0, 1,\n",
              "       0, 1, 0, 1, 1, 0, 0, 0, 0, 0, 0, 1, 1, 0, 0, 1, 0, 0, 1, 0, 0, 0,\n",
              "       0, 0, 0, 0, 0, 0, 1, 0, 1, 0, 1, 0, 0, 0, 1, 1, 1, 0, 0, 0, 0, 0,\n",
              "       1, 1, 1, 0, 1, 0, 0, 1, 1, 0, 0, 0, 1, 0, 0, 0, 0, 1, 1, 1, 0, 0,\n",
              "       0, 0])"
            ]
          },
          "metadata": {},
          "execution_count": 97
        }
      ]
    },
    {
      "cell_type": "code",
      "source": [
        "from tensorflow.keras.models import load_model\n",
        "from tensorflow.keras.preprocessing import image"
      ],
      "metadata": {
        "id": "6jb9gMeRd0N5"
      },
      "execution_count": null,
      "outputs": []
    },
    {
      "cell_type": "code",
      "source": [
        "model=load_model('model_vgg19.h5')"
      ],
      "metadata": {
        "id": "1vG0xg8zd5dG"
      },
      "execution_count": null,
      "outputs": []
    },
    {
      "cell_type": "code",
      "source": [
        "img=image.load_img('/content/drive/MyDrive/Dataset/Malaria-Detection-master/Malaria-Detection-master/Dataset/Dataset/Test/Uninfected/C3thin_original_IMG_20150608_162922_cell_145.png',target_size=(224,224))"
      ],
      "metadata": {
        "id": "0HQn1BXbeE1A"
      },
      "execution_count": null,
      "outputs": []
    },
    {
      "cell_type": "code",
      "source": [
        "x=image.img_to_array(img)\n",
        "x"
      ],
      "metadata": {
        "colab": {
          "base_uri": "https://localhost:8080/"
        },
        "id": "aKmUyD8FeIJ7",
        "outputId": "b9df0f74-a13e-415f-cfb7-7092ec311fa0"
      },
      "execution_count": null,
      "outputs": [
        {
          "output_type": "execute_result",
          "data": {
            "text/plain": [
              "array([[[0., 0., 0.],\n",
              "        [0., 0., 0.],\n",
              "        [0., 0., 0.],\n",
              "        ...,\n",
              "        [0., 0., 0.],\n",
              "        [0., 0., 0.],\n",
              "        [0., 0., 0.]],\n",
              "\n",
              "       [[0., 0., 0.],\n",
              "        [0., 0., 0.],\n",
              "        [0., 0., 0.],\n",
              "        ...,\n",
              "        [0., 0., 0.],\n",
              "        [0., 0., 0.],\n",
              "        [0., 0., 0.]],\n",
              "\n",
              "       [[0., 0., 0.],\n",
              "        [0., 0., 0.],\n",
              "        [0., 0., 0.],\n",
              "        ...,\n",
              "        [0., 0., 0.],\n",
              "        [0., 0., 0.],\n",
              "        [0., 0., 0.]],\n",
              "\n",
              "       ...,\n",
              "\n",
              "       [[0., 0., 0.],\n",
              "        [0., 0., 0.],\n",
              "        [0., 0., 0.],\n",
              "        ...,\n",
              "        [0., 0., 0.],\n",
              "        [0., 0., 0.],\n",
              "        [0., 0., 0.]],\n",
              "\n",
              "       [[0., 0., 0.],\n",
              "        [0., 0., 0.],\n",
              "        [0., 0., 0.],\n",
              "        ...,\n",
              "        [0., 0., 0.],\n",
              "        [0., 0., 0.],\n",
              "        [0., 0., 0.]],\n",
              "\n",
              "       [[0., 0., 0.],\n",
              "        [0., 0., 0.],\n",
              "        [0., 0., 0.],\n",
              "        ...,\n",
              "        [0., 0., 0.],\n",
              "        [0., 0., 0.],\n",
              "        [0., 0., 0.]]], dtype=float32)"
            ]
          },
          "metadata": {},
          "execution_count": 102
        }
      ]
    },
    {
      "cell_type": "code",
      "source": [
        "x.shape"
      ],
      "metadata": {
        "colab": {
          "base_uri": "https://localhost:8080/"
        },
        "id": "GA3l6btVeLTl",
        "outputId": "a5af5f97-98bc-4a10-a3ed-e270b4993d7b"
      },
      "execution_count": null,
      "outputs": [
        {
          "output_type": "execute_result",
          "data": {
            "text/plain": [
              "(224, 224, 3)"
            ]
          },
          "metadata": {},
          "execution_count": 103
        }
      ]
    },
    {
      "cell_type": "code",
      "source": [
        "x=x/255"
      ],
      "metadata": {
        "id": "rw5knqu0eONo"
      },
      "execution_count": null,
      "outputs": []
    },
    {
      "cell_type": "code",
      "source": [
        "x=np.expand_dims(x,axis=0)\n",
        "img_data=preprocess_input(x)\n",
        "img_data.shape"
      ],
      "metadata": {
        "colab": {
          "base_uri": "https://localhost:8080/"
        },
        "id": "BPewlFH8eQrk",
        "outputId": "88cc83d5-9221-4f85-8111-d6f34bfe5520"
      },
      "execution_count": null,
      "outputs": [
        {
          "output_type": "execute_result",
          "data": {
            "text/plain": [
              "(1, 224, 224, 3)"
            ]
          },
          "metadata": {},
          "execution_count": 105
        }
      ]
    },
    {
      "cell_type": "code",
      "source": [
        "model.predict(img_data)"
      ],
      "metadata": {
        "colab": {
          "base_uri": "https://localhost:8080/"
        },
        "id": "UZv2eLtleS_c",
        "outputId": "9ce17397-0374-4fb8-b55e-3703c984d233"
      },
      "execution_count": null,
      "outputs": [
        {
          "output_type": "execute_result",
          "data": {
            "text/plain": [
              "array([[0., 1.]], dtype=float32)"
            ]
          },
          "metadata": {},
          "execution_count": 106
        }
      ]
    },
    {
      "cell_type": "code",
      "source": [
        "a=np.argmax(model.predict(img_data), axis=1)"
      ],
      "metadata": {
        "id": "dKSgwsxNeWDW"
      },
      "execution_count": null,
      "outputs": []
    },
    {
      "cell_type": "code",
      "source": [
        "if(a==1):\n",
        "    print(\"Uninfected\")\n",
        "else:\n",
        "    print(\"Infected\")"
      ],
      "metadata": {
        "colab": {
          "base_uri": "https://localhost:8080/"
        },
        "id": "uXQWS7Frea7f",
        "outputId": "7b2bfe9b-cc23-4b6e-8838-57695780bcf7"
      },
      "execution_count": null,
      "outputs": [
        {
          "output_type": "stream",
          "name": "stdout",
          "text": [
            "Uninfected\n"
          ]
        }
      ]
    },
    {
      "cell_type": "markdown",
      "source": [
        "Custom CNN for classification"
      ],
      "metadata": {
        "id": "TVD6Qf_0D03F"
      }
    },
    {
      "cell_type": "code",
      "source": [
        "from tensorflow.keras.layers import MaxPooling2D\n",
        "model_2=Sequential()\n",
        "model_2.add(Conv2D(filters=16,kernel_size=2,padding=\"same\",activation=\"relu\",input_shape=(224,224,3)))\n",
        "model_2.add(MaxPooling2D(pool_size=2))\n",
        "model_2.add(Conv2D(filters=32,kernel_size=2,padding=\"same\",activation =\"relu\"))\n",
        "model_2.add(MaxPooling2D(pool_size=2))\n",
        "model_2.add(Conv2D(filters=64,kernel_size=2,padding=\"same\",activation=\"relu\"))\n",
        "model_2.add(MaxPooling2D(pool_size=2))\n",
        "model_2.add(Flatten())\n",
        "model_2.add(Dense(500,activation=\"relu\"))\n",
        "model_2.add(Dense(2,activation=\"softmax\"))\n",
        "model_2.summary()"
      ],
      "metadata": {
        "colab": {
          "base_uri": "https://localhost:8080/"
        },
        "id": "35MSY9aVgUmH",
        "outputId": "60bd60db-9b70-43ca-f783-bf92ce9c116e"
      },
      "execution_count": null,
      "outputs": [
        {
          "output_type": "stream",
          "name": "stdout",
          "text": [
            "Model: \"sequential_1\"\n",
            "_________________________________________________________________\n",
            " Layer (type)                Output Shape              Param #   \n",
            "=================================================================\n",
            " conv2d_3 (Conv2D)           (None, 224, 224, 16)      208       \n",
            "                                                                 \n",
            " max_pooling2d_3 (MaxPooling  (None, 112, 112, 16)     0         \n",
            " 2D)                                                             \n",
            "                                                                 \n",
            " conv2d_4 (Conv2D)           (None, 112, 112, 32)      2080      \n",
            "                                                                 \n",
            " max_pooling2d_4 (MaxPooling  (None, 56, 56, 32)       0         \n",
            " 2D)                                                             \n",
            "                                                                 \n",
            " conv2d_5 (Conv2D)           (None, 56, 56, 64)        8256      \n",
            "                                                                 \n",
            " max_pooling2d_5 (MaxPooling  (None, 28, 28, 64)       0         \n",
            " 2D)                                                             \n",
            "                                                                 \n",
            " flatten_4 (Flatten)         (None, 50176)             0         \n",
            "                                                                 \n",
            " dense_5 (Dense)             (None, 500)               25088500  \n",
            "                                                                 \n",
            " dense_6 (Dense)             (None, 2)                 1002      \n",
            "                                                                 \n",
            "=================================================================\n",
            "Total params: 25,100,046\n",
            "Trainable params: 25,100,046\n",
            "Non-trainable params: 0\n",
            "_________________________________________________________________\n"
          ]
        }
      ]
    },
    {
      "cell_type": "code",
      "source": [
        "# tell the model what cost and optimization method to use\n",
        "model_2.compile(\n",
        "  loss='categorical_crossentropy',\n",
        "  optimizer='adam',\n",
        "  metrics=['accuracy']\n",
        ")"
      ],
      "metadata": {
        "id": "0u6g3a-8ki4J"
      },
      "execution_count": null,
      "outputs": []
    },
    {
      "cell_type": "code",
      "source": [
        "# fit the model\n",
        "# Run the cell. It will take some time to execute\n",
        "history_2 = model_2.fit(\n",
        "  train_generator,\n",
        "  validation_data=validation_generator,\n",
        "  epochs=30,\n",
        "  steps_per_epoch=len(train_generator),\n",
        "  validation_steps=len(validation_generator)\n",
        ")"
      ],
      "metadata": {
        "colab": {
          "base_uri": "https://localhost:8080/"
        },
        "id": "Nm5sjpeCb8Vh",
        "outputId": "87fa00a9-d0d9-418b-dc81-29c2d18977f3"
      },
      "execution_count": null,
      "outputs": [
        {
          "output_type": "stream",
          "name": "stdout",
          "text": [
            "Epoch 1/30\n",
            "524/524 [==============================] - 323s 617ms/step - loss: 0.6427 - accuracy: 0.6724 - val_loss: 0.3242 - val_accuracy: 0.8676\n",
            "Epoch 2/30\n",
            "524/524 [==============================] - 323s 617ms/step - loss: 0.2249 - accuracy: 0.9226 - val_loss: 0.2011 - val_accuracy: 0.9259\n",
            "Epoch 3/30\n",
            "524/524 [==============================] - 322s 616ms/step - loss: 0.1959 - accuracy: 0.9362 - val_loss: 0.2002 - val_accuracy: 0.9343\n",
            "Epoch 4/30\n",
            "524/524 [==============================] - 321s 613ms/step - loss: 0.1900 - accuracy: 0.9361 - val_loss: 0.2199 - val_accuracy: 0.9233\n",
            "Epoch 5/30\n",
            "524/524 [==============================] - 322s 615ms/step - loss: 0.1781 - accuracy: 0.9407 - val_loss: 0.1739 - val_accuracy: 0.9404\n",
            "Epoch 6/30\n",
            "524/524 [==============================] - 320s 611ms/step - loss: 0.1755 - accuracy: 0.9426 - val_loss: 0.1966 - val_accuracy: 0.9371\n",
            "Epoch 7/30\n",
            "524/524 [==============================] - 317s 606ms/step - loss: 0.1696 - accuracy: 0.9453 - val_loss: 0.1809 - val_accuracy: 0.9368\n",
            "Epoch 8/30\n",
            "524/524 [==============================] - 316s 602ms/step - loss: 0.1637 - accuracy: 0.9462 - val_loss: 0.1778 - val_accuracy: 0.9379\n",
            "Epoch 9/30\n",
            "524/524 [==============================] - 321s 613ms/step - loss: 0.1560 - accuracy: 0.9504 - val_loss: 0.1667 - val_accuracy: 0.9476\n",
            "Epoch 10/30\n",
            "524/524 [==============================] - 324s 619ms/step - loss: 0.1546 - accuracy: 0.9509 - val_loss: 0.1660 - val_accuracy: 0.9462\n",
            "Epoch 11/30\n",
            "524/524 [==============================] - 324s 618ms/step - loss: 0.1530 - accuracy: 0.9534 - val_loss: 0.1591 - val_accuracy: 0.9484\n",
            "Epoch 12/30\n",
            "524/524 [==============================] - 330s 630ms/step - loss: 0.1433 - accuracy: 0.9552 - val_loss: 0.1517 - val_accuracy: 0.9554\n",
            "Epoch 13/30\n",
            "524/524 [==============================] - 332s 634ms/step - loss: 0.1443 - accuracy: 0.9539 - val_loss: 0.1737 - val_accuracy: 0.9467\n",
            "Epoch 14/30\n",
            "524/524 [==============================] - 330s 630ms/step - loss: 0.1326 - accuracy: 0.9581 - val_loss: 0.1553 - val_accuracy: 0.9554\n",
            "Epoch 15/30\n",
            "524/524 [==============================] - 323s 617ms/step - loss: 0.1312 - accuracy: 0.9589 - val_loss: 0.1679 - val_accuracy: 0.9499\n",
            "Epoch 16/30\n",
            "524/524 [==============================] - 319s 610ms/step - loss: 0.1280 - accuracy: 0.9580 - val_loss: 0.1596 - val_accuracy: 0.9516\n",
            "Epoch 17/30\n",
            "524/524 [==============================] - 319s 610ms/step - loss: 0.1242 - accuracy: 0.9589 - val_loss: 0.1542 - val_accuracy: 0.9501\n",
            "Epoch 18/30\n",
            "524/524 [==============================] - 323s 617ms/step - loss: 0.1183 - accuracy: 0.9617 - val_loss: 0.1679 - val_accuracy: 0.9444\n",
            "Epoch 19/30\n",
            "524/524 [==============================] - 321s 613ms/step - loss: 0.1174 - accuracy: 0.9623 - val_loss: 0.1600 - val_accuracy: 0.9533\n",
            "Epoch 20/30\n",
            "524/524 [==============================] - 322s 616ms/step - loss: 0.1171 - accuracy: 0.9606 - val_loss: 0.1610 - val_accuracy: 0.9454\n",
            "Epoch 21/30\n",
            "524/524 [==============================] - 322s 615ms/step - loss: 0.1167 - accuracy: 0.9620 - val_loss: 0.1507 - val_accuracy: 0.9531\n",
            "Epoch 22/30\n",
            "524/524 [==============================] - 321s 613ms/step - loss: 0.1148 - accuracy: 0.9617 - val_loss: 0.1463 - val_accuracy: 0.9498\n",
            "Epoch 23/30\n",
            "524/524 [==============================] - 321s 614ms/step - loss: 0.1106 - accuracy: 0.9630 - val_loss: 0.1460 - val_accuracy: 0.9515\n",
            "Epoch 24/30\n",
            "524/524 [==============================] - 328s 625ms/step - loss: 0.1121 - accuracy: 0.9638 - val_loss: 0.1470 - val_accuracy: 0.9524\n",
            "Epoch 25/30\n",
            "524/524 [==============================] - 329s 629ms/step - loss: 0.1090 - accuracy: 0.9630 - val_loss: 0.1497 - val_accuracy: 0.9521\n",
            "Epoch 26/30\n",
            "524/524 [==============================] - 326s 622ms/step - loss: 0.1048 - accuracy: 0.9650 - val_loss: 0.1579 - val_accuracy: 0.9498\n",
            "Epoch 27/30\n",
            "524/524 [==============================] - 324s 618ms/step - loss: 0.1043 - accuracy: 0.9654 - val_loss: 0.1504 - val_accuracy: 0.9508\n",
            "Epoch 28/30\n",
            "524/524 [==============================] - 317s 605ms/step - loss: 0.1022 - accuracy: 0.9654 - val_loss: 0.1593 - val_accuracy: 0.9454\n",
            "Epoch 29/30\n",
            "524/524 [==============================] - 319s 608ms/step - loss: 0.0986 - accuracy: 0.9676 - val_loss: 0.1819 - val_accuracy: 0.9470\n",
            "Epoch 30/30\n",
            "524/524 [==============================] - 320s 611ms/step - loss: 0.1036 - accuracy: 0.9651 - val_loss: 0.1496 - val_accuracy: 0.9516\n"
          ]
        }
      ]
    },
    {
      "cell_type": "code",
      "source": [
        "# plot the loss\n",
        "plt.plot(history_2.history['loss'], label='train loss')\n",
        "plt.plot(history_2.history['val_loss'], label='val loss')\n",
        "plt.legend()\n",
        "plt.show()\n",
        "plt.savefig('LossVal_loss')"
      ],
      "metadata": {
        "id": "A21qDjy_lCFq",
        "colab": {
          "base_uri": "https://localhost:8080/",
          "height": 282
        },
        "outputId": "7a036c92-4a2d-4a44-daea-d5cc2168fd09"
      },
      "execution_count": null,
      "outputs": [
        {
          "output_type": "display_data",
          "data": {
            "image/png": "[encoded data removed]",
            "text/plain": [
              "<Figure size 432x288 with 1 Axes>"
            ]
          },
          "metadata": {
            "needs_background": "light"
          }
        },
        {
          "output_type": "display_data",
          "data": {
            "text/plain": [
              "<Figure size 432x288 with 0 Axes>"
            ]
          },
          "metadata": {}
        }
      ]
    },
    {
      "cell_type": "code",
      "source": [
        "# plot the accuracy\n",
        "plt.plot(history_2.history['accuracy'], label='train acc')\n",
        "plt.plot(history_2.history['val_accuracy'], label='val acc')\n",
        "plt.legend()\n",
        "plt.show()\n",
        "plt.savefig('AccVal_acc')"
      ],
      "metadata": {
        "colab": {
          "base_uri": "https://localhost:8080/",
          "height": 282
        },
        "id": "HSyXaFEbU0MQ",
        "outputId": "922dd938-ac4a-45e9-cb7e-551a8438f6a4"
      },
      "execution_count": null,
      "outputs": [
        {
          "output_type": "display_data",
          "data": {
            "image/png": "[encoded data removed]",
            "text/plain": [
              "<Figure size 432x288 with 1 Axes>"
            ]
          },
          "metadata": {
            "needs_background": "light"
          }
        },
        {
          "output_type": "display_data",
          "data": {
            "text/plain": [
              "<Figure size 432x288 with 0 Axes>"
            ]
          },
          "metadata": {}
        }
      ]
    },
    {
      "cell_type": "code",
      "source": [
        "# save it as a h5 file\n",
        "\n",
        "from tensorflow.keras.models import load_model\n",
        "\n",
        "model_2.save('model_Custom_CNN.h5')"
      ],
      "metadata": {
        "id": "nQBrNI4ectEc"
      },
      "execution_count": null,
      "outputs": []
    },
    {
      "cell_type": "code",
      "source": [
        ""
      ],
      "metadata": {
        "id": "fwSuEjwyxkRS"
      },
      "execution_count": null,
      "outputs": []
    }
  ]
}